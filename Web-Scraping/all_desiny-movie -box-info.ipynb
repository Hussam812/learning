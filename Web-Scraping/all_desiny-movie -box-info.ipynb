{
 "cells": [
  {
   "cell_type": "markdown",
   "id": "dba4a6c9",
   "metadata": {},
   "source": [
    "# Scraping Disny movie Box Info\n",
    "\n",
    "Import libraries"
   ]
  },
  {
   "cell_type": "code",
   "execution_count": 1,
   "id": "510f6f84",
   "metadata": {},
   "outputs": [],
   "source": [
    "import requests as req\n",
    "from bs4 import BeautifulSoup as bs\n",
    "import re"
   ]
  },
  {
   "cell_type": "code",
   "execution_count": 2,
   "id": "faba225f",
   "metadata": {},
   "outputs": [],
   "source": [
    "# load HTML box_info page 'The Reluctant Dragon'\n",
    "rs = req.get('https://en.wikipedia.org/wiki/The_Reluctant_Dragon_(1941_film)')\n",
    "\n",
    "# make beautiful soup object\n",
    "soup = bs(rs.content, 'html.parser')\n",
    "\n",
    "#print(soup.prettify())\n"
   ]
  },
  {
   "cell_type": "code",
   "execution_count": 3,
   "id": "c87975b3",
   "metadata": {},
   "outputs": [],
   "source": [
    "# extract box content\n",
    "box = soup.find('table', class_='infobox vevent')\n",
    "\n",
    "# extract rows\n",
    "box_rows = box.find_all('tr')"
   ]
  },
  {
   "cell_type": "code",
   "execution_count": 15,
   "id": "3d8385d0",
   "metadata": {},
   "outputs": [],
   "source": [
    "def get_content(data):\n",
    "    if dara.find('li'):\n",
    "        return [li.get_text(' ', strip=True).replace('\\xa0', ' ') for li in data.find('li')]\n",
    "    else:\n",
    "        return data.get_text(' ', strip=True).replace('\\xa0', ' ')\n",
    "    \n",
    "    \n",
    "def get_info_box(url):\n",
    "    rs = req.get(url)\n",
    "    soup = bs(rs.content, 'html.parser')\n",
    "    box = soup.find('table', class_='infobox vevent')\n",
    "    box_rows = box.find_all('tr')\n",
    "   \n",
    "    movie_info = {}\n",
    "    for i, row in enumerate(box_rows):\n",
    "        if i == 0:\n",
    "            movie_info['title'] = row.get_text(' ', strip=True)\n",
    "        elif i == 1:\n",
    "            continue\n",
    "        else:\n",
    "            key = row.find('th').get_text(' ', strip=True)\n",
    "            value = get_content(row.find('td'))\n",
    "            movie_info[key] =  value \n",
    "    return movie_info\n"
   ]
  },
  {
   "cell_type": "code",
   "execution_count": null,
   "id": "5ba02b30",
   "metadata": {},
   "outputs": [],
   "source": []
  }
 ],
 "metadata": {
  "kernelspec": {
   "display_name": "Python 3 (ipykernel)",
   "language": "python",
   "name": "python3"
  },
  "language_info": {
   "codemirror_mode": {
    "name": "ipython",
    "version": 3
   },
   "file_extension": ".py",
   "mimetype": "text/x-python",
   "name": "python",
   "nbconvert_exporter": "python",
   "pygments_lexer": "ipython3",
   "version": "3.9.7"
  }
 },
 "nbformat": 4,
 "nbformat_minor": 5
}
