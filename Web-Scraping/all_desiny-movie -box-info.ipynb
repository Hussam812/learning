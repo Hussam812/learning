{
 "cells": [
  {
   "cell_type": "markdown",
   "id": "df7bc166",
   "metadata": {},
   "source": [
    "# Scraping Disny movie Box Info\n",
    "\n",
    "Import libraries"
   ]
  },
  {
   "cell_type": "code",
   "execution_count": 1,
   "id": "223f3390",
   "metadata": {},
   "outputs": [],
   "source": [
    "import requests as req\n",
    "from bs4 import BeautifulSoup as bs\n",
    "import re"
   ]
  },
  {
   "cell_type": "code",
   "execution_count": null,
   "id": "63b95acf",
   "metadata": {},
   "outputs": [],
   "source": [
    "# load HTML box_info page 'The Reluctant Dragon'\n",
    "rs = req.get('https://en.wikipedia.org/wiki/The_Reluctant_Dragon_(1941_film)')\n",
    "soup = bs(rs.content, 'html.parser')"
   ]
  }
 ],
 "metadata": {
  "kernelspec": {
   "display_name": "Python 3 (ipykernel)",
   "language": "python",
   "name": "python3"
  },
  "language_info": {
   "codemirror_mode": {
    "name": "ipython",
    "version": 3
   },
   "file_extension": ".py",
   "mimetype": "text/x-python",
   "name": "python",
   "nbconvert_exporter": "python",
   "pygments_lexer": "ipython3",
   "version": "3.9.7"
  }
 },
 "nbformat": 4,
 "nbformat_minor": 5
}
