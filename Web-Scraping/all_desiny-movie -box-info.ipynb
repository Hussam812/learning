{
 "cells": [
  {
   "cell_type": "markdown",
   "id": "3edb32ff",
   "metadata": {},
   "source": [
    "# Scraping Disny movie Box Info\n",
    "\n",
    "Import libraries"
   ]
  },
  {
   "cell_type": "code",
   "execution_count": 1,
   "id": "910f46f7",
   "metadata": {},
   "outputs": [],
   "source": [
    "import requests as req\n",
    "from bs4 import BeautifulSoup as bs\n",
    "import re"
   ]
  },
  {
   "cell_type": "code",
   "execution_count": 2,
   "id": "3bb8d270",
   "metadata": {},
   "outputs": [],
   "source": [
    "def get_content(data):\n",
    "    if data.find('li'):\n",
    "        return [li.get_text(' ', strip=True).replace('\\xa0', ' ') for li in data.find('li')]\n",
    "    else:\n",
    "        return data.get_text(' ', strip=True).replace('\\xa0', ' ')\n",
    "    \n",
    "    \n",
    "def get_info_box(url):\n",
    "    rs = req.get(url)\n",
    "    soup = bs(rs.content, 'html.parser')\n",
    "    box = soup.find('table', class_='infobox vevent')\n",
    "    box_rows = box.find_all('tr')\n",
    "   \n",
    "    movie_info = {}\n",
    "    for i, row in enumerate(box_rows):\n",
    "        if i == 0:\n",
    "            movie_info['title'] = row.get_text(' ', strip=True)\n",
    "        elif i == 1:\n",
    "            continue\n",
    "        else:\n",
    "            key = row.find('th').get_text(' ', strip=True)\n",
    "            value = get_content(row.find('td'))\n",
    "            movie_info[key] =  value \n",
    "    return movie_info\n"
   ]
  },
  {
   "cell_type": "code",
   "execution_count": 3,
   "id": "f5be3fdf",
   "metadata": {},
   "outputs": [
    {
     "data": {
      "text/plain": [
       "{'title': 'Fantasia',\n",
       " 'Directed by': ['Samuel Armstrong'],\n",
       " 'Story by': ['Joe Grant'],\n",
       " 'Produced by': ['Walt Disney'],\n",
       " 'Starring': ['Leopold Stokowski'],\n",
       " 'Narrated by': 'Deems Taylor',\n",
       " 'Cinematography': 'James Wong Howe',\n",
       " 'Music by': 'See program',\n",
       " 'Production company': 'Walt Disney Productions',\n",
       " 'Distributed by': 'RKO Radio Pictures',\n",
       " 'Release date': ['November 13, 1940', '( 1940-11-13 )'],\n",
       " 'Running time': '126 minutes [1]',\n",
       " 'Country': 'United States',\n",
       " 'Language': 'English',\n",
       " 'Budget': '$2.28 million [2] [3]',\n",
       " 'Box office': '$76.4–$83.3 million (United States and Canada) [4] [5]'}"
      ]
     },
     "execution_count": 3,
     "metadata": {},
     "output_type": "execute_result"
    }
   ],
   "source": [
    "get_info_box('https://en.wikipedia.org/wiki/Fantasia_(1940_film)')"
   ]
  },
  {
   "cell_type": "code",
   "execution_count": 4,
   "id": "6151eb4b",
   "metadata": {},
   "outputs": [
    {
     "data": {
      "text/plain": [
       "'/wiki/Snow_White_and_the_Seven_Dwarfs_(1937_film)'"
      ]
     },
     "execution_count": 4,
     "metadata": {},
     "output_type": "execute_result"
    }
   ],
   "source": [
    "rs = req.get('https://en.wikipedia.org/wiki/List_of_Walt_Disney_Pictures_films')\n",
    "\n",
    "# make beautiful soup object\n",
    "soup = bs(rs.content)\n",
    "\n",
    "#print(soup.prettify())\n",
    "\n",
    "movies = soup.select('.wikitable.sortable i a')\n",
    "movies[0]['title']\n",
    "movies[0]['href']"
   ]
  },
  {
   "cell_type": "code",
   "execution_count": 5,
   "id": "a47cbd64",
   "metadata": {},
   "outputs": [
    {
     "name": "stdout",
     "output_type": "stream",
     "text": [
      "Zorro the Avenger\n",
      "'NoneType' object has no attribute 'find'\n",
      "The Sign of Zorro\n",
      "'NoneType' object has no attribute 'find'\n",
      "Spirited Away\n",
      "'NoneType' object has no attribute 'get_text'\n",
      "Howl's Moving Castle\n",
      "'NoneType' object has no attribute 'get_text'\n",
      "The Nightmare Before Christmas 3D\n",
      "'NoneType' object has no attribute 'get_text'\n",
      "The Secret of the Magic Gourd\n",
      "'NoneType' object has no attribute 'get_text'\n",
      "Ponyo\n",
      "'NoneType' object has no attribute 'get_text'\n",
      "Tales from Earthsea\n",
      "'NoneType' object has no attribute 'get_text'\n",
      "Anaganaga O Dheerudu\n",
      "'NoneType' object has no attribute 'get_text'\n",
      "The Secret World of Arrietty\n",
      "'NoneType' object has no attribute 'get_text'\n",
      "Tini: The Movie\n",
      "'NoneType' object has no attribute 'get_text'\n",
      "Born in China\n",
      "'NoneType' object has no attribute 'get_text'\n",
      "The Beatles: Get Back – The Rooftop Concert\n",
      "'NoneType' object has no attribute 'find'\n",
      "Elemental\n",
      "'NoneType' object has no attribute 'find_all'\n",
      "61\n",
      "'NoneType' object has no attribute 'find_all'\n",
      "All Night Long\n",
      "'NoneType' object has no attribute 'find'\n",
      "Big Thunder Mountain Railroad\n",
      "'NoneType' object has no attribute 'find_all'\n",
      "Keeper of the Lost Cities\n",
      "'NoneType' object has no attribute 'find_all'\n",
      "Muppet Man\n",
      "'NoneType' object has no attribute 'find_all'\n",
      "One Thousand and One Nights\n",
      "'NoneType' object has no attribute 'find_all'\n",
      "Shrunk\n",
      "'NoneType' object has no attribute 'find'\n",
      "Sister Act 3\n",
      "'NoneType' object has no attribute 'find'\n",
      "The Graveyard Book\n",
      "'NoneType' object has no attribute 'find_all'\n",
      "The Thief\n",
      "'NoneType' object has no attribute 'find_all'\n",
      "Tom Sawyer\n",
      "'NoneType' object has no attribute 'find_all'\n",
      "Tower of Terror\n",
      "'NoneType' object has no attribute 'find_all'\n",
      "Tron: Ares\n",
      "'NoneType' object has no attribute 'find'\n",
      "FC Barcelona\n",
      "'NoneType' object has no attribute 'find_all'\n",
      "Figment\n",
      "'NoneType' object has no attribute 'find_all'\n"
     ]
    }
   ],
   "source": [
    "movies_info = []\n",
    "base_path = 'https://en.wikipedia.org'\n",
    "for i, movie in enumerate(movies):\n",
    "    try:\n",
    "        title = movie['title']\n",
    "        relative_path = movie['href']\n",
    "        movies_info.append(get_info_box(base_path+relative_path))\n",
    "    except Exception as e:\n",
    "        print(movie.get_text())\n",
    "        print(e)\n",
    "    "
   ]
  },
  {
   "cell_type": "code",
   "execution_count": 6,
   "id": "64a57f85",
   "metadata": {},
   "outputs": [
    {
     "data": {
      "text/plain": [
       "512"
      ]
     },
     "execution_count": 6,
     "metadata": {},
     "output_type": "execute_result"
    }
   ],
   "source": [
    "len(movies_info)"
   ]
  },
  {
   "cell_type": "markdown",
   "id": "8c7eed7f",
   "metadata": {},
   "source": [
    " # Saving / Reload json"
   ]
  },
  {
   "cell_type": "code",
   "execution_count": 7,
   "id": "78a6d92a",
   "metadata": {},
   "outputs": [],
   "source": [
    "import json\n",
    "def save_data(title, data):\n",
    "    with open(f'C:/Users/Mansi/Desktop/projects/projects/Web-Scraping/{title}', 'w',encoding='utf-8') as f:\n",
    "        json.dump(data, f, ensure_ascii=False, indent=2)"
   ]
  },
  {
   "cell_type": "code",
   "execution_count": 9,
   "id": "3fa04dd9",
   "metadata": {},
   "outputs": [
    {
     "ename": "NameError",
     "evalue": "name 'movie_info' is not defined",
     "output_type": "error",
     "traceback": [
      "\u001b[1;31m---------------------------------------------------------------------------\u001b[0m",
      "\u001b[1;31mNameError\u001b[0m                                 Traceback (most recent call last)",
      "\u001b[1;32m~\\AppData\\Local\\Temp/ipykernel_13520/2723632519.py\u001b[0m in \u001b[0;36m<module>\u001b[1;34m\u001b[0m\n\u001b[1;32m----> 1\u001b[1;33m \u001b[0msave_data\u001b[0m\u001b[1;33m(\u001b[0m\u001b[1;34m'Disniny-Filme-info'\u001b[0m\u001b[1;33m,\u001b[0m \u001b[0mmovie_info\u001b[0m\u001b[1;33m)\u001b[0m\u001b[1;33m\u001b[0m\u001b[1;33m\u001b[0m\u001b[0m\n\u001b[0m",
      "\u001b[1;31mNameError\u001b[0m: name 'movie_info' is not defined"
     ]
    }
   ],
   "source": [
    "save_data('Disniny-Filme-info', movie_info)"
   ]
  },
  {
   "cell_type": "code",
   "execution_count": 56,
   "id": "a6027096",
   "metadata": {},
   "outputs": [],
   "source": [
    "def load_data(title):\n",
    "    with open(f'C:/Users/Mansi/Desktop/projects/projects/Web-Scraping/{title}', encoding='utf-8') as f:\n",
    "        return json.load(f)"
   ]
  },
  {
   "cell_type": "code",
   "execution_count": 58,
   "id": "e5ad045e",
   "metadata": {},
   "outputs": [],
   "source": [
    "import pandas as pd\n",
    "df = pd.DataFrame(movie_info,\n",
    "                 columns=['Directed by', 'Story by', 'Produced by', 'Starring', 'Narrated by', 'Cinematography', 'Music by',\n",
    "                         'Production company', 'Distributed by', 'Release date', 'Running time', 'Country', 'Language', 'Budget', 'Box office'])"
   ]
  },
  {
   "cell_type": "code",
   "execution_count": 60,
   "id": "6e119547",
   "metadata": {},
   "outputs": [
    {
     "name": "stdout",
     "output_type": "stream",
     "text": [
      "<class 'pandas.core.frame.DataFrame'>\n",
      "RangeIndex: 3 entries, 0 to 2\n",
      "Data columns (total 15 columns):\n",
      " #   Column              Non-Null Count  Dtype \n",
      "---  ------              --------------  ----- \n",
      " 0   Directed by         3 non-null      object\n",
      " 1   Story by            0 non-null      object\n",
      " 2   Produced by         3 non-null      object\n",
      " 3   Starring            3 non-null      object\n",
      " 4   Narrated by         0 non-null      object\n",
      " 5   Cinematography      3 non-null      object\n",
      " 6   Music by            3 non-null      object\n",
      " 7   Production company  3 non-null      object\n",
      " 8   Distributed by      3 non-null      object\n",
      " 9   Release date        3 non-null      object\n",
      " 10  Running time        3 non-null      object\n",
      " 11  Country             3 non-null      object\n",
      " 12  Language            3 non-null      object\n",
      " 13  Budget              3 non-null      object\n",
      " 14  Box office          3 non-null      object\n",
      "dtypes: object(15)\n",
      "memory usage: 488.0+ bytes\n"
     ]
    }
   ],
   "source": [
    "df.info()"
   ]
  },
  {
   "cell_type": "code",
   "execution_count": null,
   "id": "68a53f41",
   "metadata": {},
   "outputs": [],
   "source": []
  }
 ],
 "metadata": {
  "kernelspec": {
   "display_name": "Python 3 (ipykernel)",
   "language": "python",
   "name": "python3"
  },
  "language_info": {
   "codemirror_mode": {
    "name": "ipython",
    "version": 3
   },
   "file_extension": ".py",
   "mimetype": "text/x-python",
   "name": "python",
   "nbconvert_exporter": "python",
   "pygments_lexer": "ipython3",
   "version": "3.9.7"
  }
 },
 "nbformat": 4,
 "nbformat_minor": 5
}
