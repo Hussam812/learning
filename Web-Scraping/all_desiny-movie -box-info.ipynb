{
 "cells": [
  {
   "cell_type": "markdown",
   "id": "7c9f21c6",
   "metadata": {},
   "source": [
    "# Scraping Disny movie Box Info\n",
    "\n",
    "Import libraries"
   ]
  },
  {
   "cell_type": "code",
   "execution_count": 10,
   "id": "91edf675",
   "metadata": {},
   "outputs": [],
   "source": [
    "import requests as req\n",
    "from bs4 import BeautifulSoup as bs\n",
    "import re"
   ]
  },
  {
   "cell_type": "code",
   "execution_count": 11,
   "id": "593f0153",
   "metadata": {},
   "outputs": [],
   "source": [
    "def get_content(data):\n",
    "    if data.find('li'):\n",
    "        return [li.get_text(' ', strip=True).replace('\\xa0', ' ') for li in data.find('li')]\n",
    "    else:\n",
    "        return data.get_text(' ', strip=True).replace('\\xa0', ' ')\n",
    "    \n",
    "    \n",
    "def get_info_box(url):\n",
    "    rs = req.get(url)\n",
    "    soup = bs(rs.content, 'html.parser')\n",
    "    box = soup.find('table', class_='infobox vevent')\n",
    "    box_rows = box.find_all('tr')\n",
    "   \n",
    "    movie_info = {}\n",
    "    for i, row in enumerate(box_rows):\n",
    "        if i == 0:\n",
    "            movie_info['title'] = row.get_text(' ', strip=True)\n",
    "        elif i == 1:\n",
    "            continue\n",
    "        else:\n",
    "            key = row.find('th').get_text(' ', strip=True)\n",
    "            value = get_content(row.find('td'))\n",
    "            movie_info[key] =  value \n",
    "    return movie_info\n"
   ]
  },
  {
   "cell_type": "code",
   "execution_count": 12,
   "id": "00d9c1fe",
   "metadata": {},
   "outputs": [
    {
     "data": {
      "text/plain": [
       "{'title': 'Fantasia',\n",
       " 'Directed by': ['Samuel Armstrong'],\n",
       " 'Story by': ['Joe Grant'],\n",
       " 'Produced by': ['Walt Disney'],\n",
       " 'Starring': ['Leopold Stokowski'],\n",
       " 'Narrated by': 'Deems Taylor',\n",
       " 'Cinematography': 'James Wong Howe',\n",
       " 'Music by': 'See program',\n",
       " 'Production company': 'Walt Disney Productions',\n",
       " 'Distributed by': 'RKO Radio Pictures',\n",
       " 'Release date': ['November 13, 1940', '( 1940-11-13 )'],\n",
       " 'Running time': '126 minutes [1]',\n",
       " 'Country': 'United States',\n",
       " 'Language': 'English',\n",
       " 'Budget': '$2.28 million [2] [3]',\n",
       " 'Box office': '$76.4–$83.3 million (United States and Canada) [4] [5]'}"
      ]
     },
     "execution_count": 12,
     "metadata": {},
     "output_type": "execute_result"
    }
   ],
   "source": [
    "get_info_box('https://en.wikipedia.org/wiki/Fantasia_(1940_film)')"
   ]
  },
  {
   "cell_type": "code",
   "execution_count": 13,
   "id": "9892f701",
   "metadata": {},
   "outputs": [
    {
     "data": {
      "text/plain": [
       "'/wiki/Snow_White_and_the_Seven_Dwarfs_(1937_film)'"
      ]
     },
     "execution_count": 13,
     "metadata": {},
     "output_type": "execute_result"
    }
   ],
   "source": [
    "rs = req.get('https://en.wikipedia.org/wiki/List_of_Walt_Disney_Pictures_films')\n",
    "\n",
    "# make beautiful soup object\n",
    "soup = bs(rs.content)\n",
    "\n",
    "#print(soup.prettify())\n",
    "\n",
    "movies = soup.select('.wikitable.sortable i a')\n",
    "movies[0]['title']\n",
    "movies[0]['href']"
   ]
  },
  {
   "cell_type": "code",
   "execution_count": 5,
   "id": "c6767a4c",
   "metadata": {},
   "outputs": [
    {
     "name": "stdout",
     "output_type": "stream",
     "text": [
      "Zorro the Avenger\n",
      "'NoneType' object has no attribute 'find'\n",
      "The Sign of Zorro\n",
      "'NoneType' object has no attribute 'find'\n",
      "Spirited Away\n",
      "'NoneType' object has no attribute 'get_text'\n",
      "Howl's Moving Castle\n",
      "'NoneType' object has no attribute 'get_text'\n",
      "The Nightmare Before Christmas 3D\n",
      "'NoneType' object has no attribute 'get_text'\n",
      "The Secret of the Magic Gourd\n",
      "'NoneType' object has no attribute 'get_text'\n",
      "Ponyo\n",
      "'NoneType' object has no attribute 'get_text'\n",
      "Tales from Earthsea\n",
      "'NoneType' object has no attribute 'get_text'\n",
      "Anaganaga O Dheerudu\n",
      "'NoneType' object has no attribute 'get_text'\n",
      "The Secret World of Arrietty\n",
      "'NoneType' object has no attribute 'get_text'\n",
      "Tini: The Movie\n",
      "'NoneType' object has no attribute 'get_text'\n",
      "Born in China\n",
      "'NoneType' object has no attribute 'get_text'\n",
      "The Beatles: Get Back – The Rooftop Concert\n",
      "'NoneType' object has no attribute 'find'\n",
      "Elemental\n",
      "'NoneType' object has no attribute 'find_all'\n",
      "61\n",
      "'NoneType' object has no attribute 'find_all'\n",
      "All Night Long\n",
      "'NoneType' object has no attribute 'find'\n",
      "Big Thunder Mountain Railroad\n",
      "'NoneType' object has no attribute 'find_all'\n",
      "Keeper of the Lost Cities\n",
      "'NoneType' object has no attribute 'find_all'\n",
      "Muppet Man\n",
      "'NoneType' object has no attribute 'find_all'\n",
      "One Thousand and One Nights\n",
      "'NoneType' object has no attribute 'find_all'\n",
      "Shrunk\n",
      "'NoneType' object has no attribute 'find'\n",
      "Sister Act 3\n",
      "'NoneType' object has no attribute 'find'\n",
      "The Graveyard Book\n",
      "'NoneType' object has no attribute 'find_all'\n",
      "The Thief\n",
      "'NoneType' object has no attribute 'find_all'\n",
      "Tom Sawyer\n",
      "'NoneType' object has no attribute 'find_all'\n",
      "Tower of Terror\n",
      "'NoneType' object has no attribute 'find_all'\n",
      "Tron: Ares\n",
      "'NoneType' object has no attribute 'find'\n",
      "FC Barcelona\n",
      "'NoneType' object has no attribute 'find_all'\n",
      "Figment\n",
      "'NoneType' object has no attribute 'find_all'\n"
     ]
    }
   ],
   "source": [
    "movies_info = []\n",
    "base_path = 'https://en.wikipedia.org'\n",
    "for i, movie in enumerate(movies):\n",
    "    try:\n",
    "        title = movie['title']\n",
    "        relative_path = movie['href']\n",
    "        movies_info.append(get_info_box(base_path+relative_path))\n",
    "    except Exception as e:\n",
    "        print(movie.get_text())\n",
    "        print(e)\n",
    "    "
   ]
  },
  {
   "cell_type": "code",
   "execution_count": 14,
   "id": "38c8c9a1",
   "metadata": {},
   "outputs": [
    {
     "data": {
      "text/plain": [
       "512"
      ]
     },
     "execution_count": 14,
     "metadata": {},
     "output_type": "execute_result"
    }
   ],
   "source": [
    "len(movies_info)"
   ]
  },
  {
   "cell_type": "markdown",
   "id": "1683dad0",
   "metadata": {},
   "source": [
    " # Saving / Reload json"
   ]
  },
  {
   "cell_type": "code",
   "execution_count": 15,
   "id": "bc77f311",
   "metadata": {},
   "outputs": [],
   "source": [
    "import json\n",
    "def save_data(title, data):\n",
    "    with open(f'C:/Users/Mansi/Desktop/projects/projects/Web-Scraping/{title}', 'w',encoding='utf-8') as f:\n",
    "        json.dump(data, f, ensure_ascii=False, indent=2)"
   ]
  },
  {
   "cell_type": "code",
   "execution_count": 17,
   "id": "a9d4de75",
   "metadata": {},
   "outputs": [],
   "source": [
    "save_data('Disniny-Filme-info', movies_info)"
   ]
  },
  {
   "cell_type": "code",
   "execution_count": 18,
   "id": "7907100f",
   "metadata": {},
   "outputs": [],
   "source": [
    "def load_data(title):\n",
    "    with open(f'C:/Users/Mansi/Desktop/projects/projects/Web-Scraping/{title}', encoding='utf-8') as f:\n",
    "        return json.load(f)"
   ]
  },
  {
   "cell_type": "code",
   "execution_count": 20,
   "id": "b671086e",
   "metadata": {},
   "outputs": [],
   "source": [
    "import pandas as pd\n",
    "df = pd.DataFrame(movies_info,\n",
    "                 columns=['Directed by', 'Story by', 'Produced by', 'Starring', 'Narrated by', 'Cinematography', 'Music by',\n",
    "                         'Production company', 'Distributed by', 'Release date', 'Running time', 'Country', 'Language', 'Budget', 'Box office'])"
   ]
  },
  {
   "cell_type": "code",
   "execution_count": 21,
   "id": "6ea6cdcd",
   "metadata": {},
   "outputs": [
    {
     "name": "stdout",
     "output_type": "stream",
     "text": [
      "<class 'pandas.core.frame.DataFrame'>\n",
      "RangeIndex: 512 entries, 0 to 511\n",
      "Data columns (total 15 columns):\n",
      " #   Column              Non-Null Count  Dtype \n",
      "---  ------              --------------  ----- \n",
      " 0   Directed by         502 non-null    object\n",
      " 1   Story by            177 non-null    object\n",
      " 2   Produced by         499 non-null    object\n",
      " 3   Starring            475 non-null    object\n",
      " 4   Narrated by         62 non-null     object\n",
      " 5   Cinematography      390 non-null    object\n",
      " 6   Music by            503 non-null    object\n",
      " 7   Production company  205 non-null    object\n",
      " 8   Distributed by      510 non-null    object\n",
      " 9   Release date        324 non-null    object\n",
      " 10  Running time        497 non-null    object\n",
      " 11  Country             455 non-null    object\n",
      " 12  Language            490 non-null    object\n",
      " 13  Budget              316 non-null    object\n",
      " 14  Box office          396 non-null    object\n",
      "dtypes: object(15)\n",
      "memory usage: 60.1+ KB\n"
     ]
    }
   ],
   "source": [
    "df.info()"
   ]
  },
  {
   "cell_type": "code",
   "execution_count": 23,
   "id": "ce5c5b0f",
   "metadata": {},
   "outputs": [
    {
     "data": {
      "text/html": [
       "<div>\n",
       "<style scoped>\n",
       "    .dataframe tbody tr th:only-of-type {\n",
       "        vertical-align: middle;\n",
       "    }\n",
       "\n",
       "    .dataframe tbody tr th {\n",
       "        vertical-align: top;\n",
       "    }\n",
       "\n",
       "    .dataframe thead th {\n",
       "        text-align: right;\n",
       "    }\n",
       "</style>\n",
       "<table border=\"1\" class=\"dataframe\">\n",
       "  <thead>\n",
       "    <tr style=\"text-align: right;\">\n",
       "      <th></th>\n",
       "      <th>Directed by</th>\n",
       "      <th>Story by</th>\n",
       "      <th>Produced by</th>\n",
       "      <th>Starring</th>\n",
       "      <th>Narrated by</th>\n",
       "      <th>Cinematography</th>\n",
       "      <th>Music by</th>\n",
       "      <th>Production company</th>\n",
       "      <th>Distributed by</th>\n",
       "      <th>Release date</th>\n",
       "      <th>Running time</th>\n",
       "      <th>Country</th>\n",
       "      <th>Language</th>\n",
       "      <th>Budget</th>\n",
       "      <th>Box office</th>\n",
       "    </tr>\n",
       "  </thead>\n",
       "  <tbody>\n",
       "    <tr>\n",
       "      <th>0</th>\n",
       "      <td>[David Hand]</td>\n",
       "      <td>NaN</td>\n",
       "      <td>Walt Disney</td>\n",
       "      <td>[Adriana Caselotti]</td>\n",
       "      <td>NaN</td>\n",
       "      <td>NaN</td>\n",
       "      <td>[Frank Churchill]</td>\n",
       "      <td>Walt Disney Productions</td>\n",
       "      <td>RKO Radio Pictures</td>\n",
       "      <td>NaN</td>\n",
       "      <td>83 minutes</td>\n",
       "      <td>United States</td>\n",
       "      <td>English</td>\n",
       "      <td>$1.49 million [1]</td>\n",
       "      <td>$418 million [2]</td>\n",
       "    </tr>\n",
       "    <tr>\n",
       "      <th>1</th>\n",
       "      <td>NaN</td>\n",
       "      <td>[Ted Sears]</td>\n",
       "      <td>Walt Disney</td>\n",
       "      <td>[Cliff Edwards]</td>\n",
       "      <td>NaN</td>\n",
       "      <td>NaN</td>\n",
       "      <td>[Leigh Harline]</td>\n",
       "      <td>Walt Disney Productions</td>\n",
       "      <td>RKO Radio Pictures</td>\n",
       "      <td>NaN</td>\n",
       "      <td>88 minutes</td>\n",
       "      <td>United States</td>\n",
       "      <td>English</td>\n",
       "      <td>$2.6 million [3]</td>\n",
       "      <td>$164 million</td>\n",
       "    </tr>\n",
       "    <tr>\n",
       "      <th>2</th>\n",
       "      <td>[Samuel Armstrong]</td>\n",
       "      <td>[Joe Grant]</td>\n",
       "      <td>[Walt Disney]</td>\n",
       "      <td>[Leopold Stokowski]</td>\n",
       "      <td>Deems Taylor</td>\n",
       "      <td>James Wong Howe</td>\n",
       "      <td>See program</td>\n",
       "      <td>Walt Disney Productions</td>\n",
       "      <td>RKO Radio Pictures</td>\n",
       "      <td>[November 13, 1940, ( 1940-11-13 )]</td>\n",
       "      <td>126 minutes [1]</td>\n",
       "      <td>United States</td>\n",
       "      <td>English</td>\n",
       "      <td>$2.28 million [2] [3]</td>\n",
       "      <td>$76.4–$83.3 million (United States and Canada)...</td>\n",
       "    </tr>\n",
       "    <tr>\n",
       "      <th>3</th>\n",
       "      <td>Alfred Werker (live action) Hamilton Luske (an...</td>\n",
       "      <td>NaN</td>\n",
       "      <td>Walt Disney</td>\n",
       "      <td>Robert Benchley Frances Gifford Buddy Pepper N...</td>\n",
       "      <td>NaN</td>\n",
       "      <td>Bert Glennon</td>\n",
       "      <td>Frank Churchill Larry Morey</td>\n",
       "      <td>Walt Disney Productions</td>\n",
       "      <td>RKO Radio Pictures</td>\n",
       "      <td>[June 27, 1941, ( 1941-06-27 ), [1]]</td>\n",
       "      <td>74 minutes</td>\n",
       "      <td>United States</td>\n",
       "      <td>English</td>\n",
       "      <td>$600,000 [2]</td>\n",
       "      <td>$960,000 (worldwide rentals) [3]</td>\n",
       "    </tr>\n",
       "    <tr>\n",
       "      <th>4</th>\n",
       "      <td>[Ben Sharpsteen]</td>\n",
       "      <td>[Joe Grant]</td>\n",
       "      <td>Walt Disney</td>\n",
       "      <td>[Edward Brophy]</td>\n",
       "      <td>John McLeish</td>\n",
       "      <td>NaN</td>\n",
       "      <td>Frank Churchill Oliver Wallace</td>\n",
       "      <td>Walt Disney Productions</td>\n",
       "      <td>RKO Radio Pictures</td>\n",
       "      <td>NaN</td>\n",
       "      <td>64 minutes</td>\n",
       "      <td>United States</td>\n",
       "      <td>English</td>\n",
       "      <td>$950,000 [2]</td>\n",
       "      <td>&gt;$1.3 million (est. United States/Canada renta...</td>\n",
       "    </tr>\n",
       "  </tbody>\n",
       "</table>\n",
       "</div>"
      ],
      "text/plain": [
       "                                         Directed by     Story by  \\\n",
       "0                                       [David Hand]          NaN   \n",
       "1                                                NaN  [Ted Sears]   \n",
       "2                                 [Samuel Armstrong]  [Joe Grant]   \n",
       "3  Alfred Werker (live action) Hamilton Luske (an...          NaN   \n",
       "4                                   [Ben Sharpsteen]  [Joe Grant]   \n",
       "\n",
       "     Produced by                                           Starring  \\\n",
       "0    Walt Disney                                [Adriana Caselotti]   \n",
       "1    Walt Disney                                    [Cliff Edwards]   \n",
       "2  [Walt Disney]                                [Leopold Stokowski]   \n",
       "3    Walt Disney  Robert Benchley Frances Gifford Buddy Pepper N...   \n",
       "4    Walt Disney                                    [Edward Brophy]   \n",
       "\n",
       "    Narrated by   Cinematography                        Music by  \\\n",
       "0           NaN              NaN               [Frank Churchill]   \n",
       "1           NaN              NaN                 [Leigh Harline]   \n",
       "2  Deems Taylor  James Wong Howe                     See program   \n",
       "3           NaN     Bert Glennon     Frank Churchill Larry Morey   \n",
       "4  John McLeish              NaN  Frank Churchill Oliver Wallace   \n",
       "\n",
       "        Production company      Distributed by  \\\n",
       "0  Walt Disney Productions  RKO Radio Pictures   \n",
       "1  Walt Disney Productions  RKO Radio Pictures   \n",
       "2  Walt Disney Productions  RKO Radio Pictures   \n",
       "3  Walt Disney Productions  RKO Radio Pictures   \n",
       "4  Walt Disney Productions  RKO Radio Pictures   \n",
       "\n",
       "                           Release date     Running time        Country  \\\n",
       "0                                   NaN       83 minutes  United States   \n",
       "1                                   NaN       88 minutes  United States   \n",
       "2   [November 13, 1940, ( 1940-11-13 )]  126 minutes [1]  United States   \n",
       "3  [June 27, 1941, ( 1941-06-27 ), [1]]       74 minutes  United States   \n",
       "4                                   NaN       64 minutes  United States   \n",
       "\n",
       "  Language                 Budget  \\\n",
       "0  English      $1.49 million [1]   \n",
       "1  English       $2.6 million [3]   \n",
       "2  English  $2.28 million [2] [3]   \n",
       "3  English           $600,000 [2]   \n",
       "4  English           $950,000 [2]   \n",
       "\n",
       "                                          Box office  \n",
       "0                                   $418 million [2]  \n",
       "1                                       $164 million  \n",
       "2  $76.4–$83.3 million (United States and Canada)...  \n",
       "3                   $960,000 (worldwide rentals) [3]  \n",
       "4  >$1.3 million (est. United States/Canada renta...  "
      ]
     },
     "execution_count": 23,
     "metadata": {},
     "output_type": "execute_result"
    }
   ],
   "source": [
    "df.head()"
   ]
  },
  {
   "cell_type": "code",
   "execution_count": null,
   "id": "9cb8e53e",
   "metadata": {},
   "outputs": [],
   "source": []
  }
 ],
 "metadata": {
  "kernelspec": {
   "display_name": "Python 3 (ipykernel)",
   "language": "python",
   "name": "python3"
  },
  "language_info": {
   "codemirror_mode": {
    "name": "ipython",
    "version": 3
   },
   "file_extension": ".py",
   "mimetype": "text/x-python",
   "name": "python",
   "nbconvert_exporter": "python",
   "pygments_lexer": "ipython3",
   "version": "3.9.7"
  }
 },
 "nbformat": 4,
 "nbformat_minor": 5
}
