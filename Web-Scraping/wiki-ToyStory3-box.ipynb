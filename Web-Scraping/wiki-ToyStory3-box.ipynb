{
 "cells": [
  {
   "cell_type": "markdown",
   "id": "1846c094",
   "metadata": {},
   "source": [
    "# Get info box (stor in python dictionary)\n",
    "\n",
    "Import some libraries "
   ]
  },
  {
   "cell_type": "code",
   "execution_count": 1,
   "id": "bc0de92b",
   "metadata": {},
   "outputs": [],
   "source": [
    "from bs4 import BeautifulSoup as bs\n",
    "import requests as req\n",
    "import re"
   ]
  },
  {
   "cell_type": "markdown",
   "id": "dfe4ecfc",
   "metadata": {},
   "source": [
    "#### Load and open HTML"
   ]
  },
  {
   "cell_type": "code",
   "execution_count": 6,
   "id": "b8567683",
   "metadata": {},
   "outputs": [],
   "source": [
    "# get HTML and stor in res\n",
    "res = req.get('https://en.wikipedia.org/wiki/Toy_Story_3')\n",
    "\n",
    "# convert HTML into BEautifulSoup object\n",
    "soup = bs(res.content, 'html.parser')\n",
    "\n",
    "#print out content\n",
    "content = soup.prettify()\n",
    "#print(content)"
   ]
  },
  {
   "cell_type": "code",
   "execution_count": 7,
   "id": "d68411b4",
   "metadata": {},
   "outputs": [],
   "source": [
    "# box incloded in tbody tag\n",
    "box = soup.find('tbody')\n",
    "\n",
    "# row included in tr tag\n",
    "box_rows = box.find_all('tr')"
   ]
  },
  {
   "cell_type": "code",
   "execution_count": 8,
   "id": "b0935c29",
   "metadata": {},
   "outputs": [
    {
     "name": "stdout",
     "output_type": "stream",
     "text": [
      "{'title': 'Toy Story 3', 'Directed by': 'Lee Unkrich', 'Screenplay by': 'Michael Arndt', 'Story by': ['John Lasseter'], 'Produced by': 'Darla K. Anderson', 'Starring': ['Tom Hanks'], 'Cinematography': ['Jeremy Lasky'], 'Edited by': 'Ken Schretzmann', 'Music by': 'Randy Newman', 'Production companies': ['Walt Disney Pictures'], 'Distributed by': 'Walt Disney Studios Motion Pictures', 'Release dates': ['June 12, 2010', '( 2010-06-12 )', '(', 'Taormina Film Fest', ')'], 'Running time': '103 minutes [1]', 'Country': 'United States', 'Language': 'English', 'Budget': '$200 million [1]', 'Box office': '$1.067 billion [1]'}\n"
     ]
    }
   ],
   "source": [
    "# making function to take values from li tag and place it in list and replace \\xa0\n",
    "def get_content(row_data):\n",
    "    if row_data.find('li'):\n",
    "        return [li.get_text(' ', strip = True).replace('\\xa0', ' ') for li in row_data.find('li')]\n",
    "    else:\n",
    "        return row_data.get_text(' ', strip = True).replace('\\xa0', ' ')\n",
    "    \n",
    "# creating empty dictionary & iritrate theough rows\n",
    "movie_info = {}\n",
    "\n",
    "for index, row in enumerate(box_rows):\n",
    "    if index == 0:\n",
    "        movie_info['title'] = row.get_text(' ', strip = True)\n",
    "    elif index == 1:\n",
    "            continue\n",
    "    else :\n",
    "        key = row.find('th').get_text(' ', strip = True)\n",
    "        value = get_content(row.find('td'))\n",
    "        movie_info[key] = value\n",
    "print(movie_info)"
   ]
  },
  {
   "cell_type": "code",
   "execution_count": null,
   "id": "b2b51f2d",
   "metadata": {},
   "outputs": [],
   "source": [
    "git add"
   ]
  }
 ],
 "metadata": {
  "kernelspec": {
   "display_name": "Python 3 (ipykernel)",
   "language": "python",
   "name": "python3"
  },
  "language_info": {
   "codemirror_mode": {
    "name": "ipython",
    "version": 3
   },
   "file_extension": ".py",
   "mimetype": "text/x-python",
   "name": "python",
   "nbconvert_exporter": "python",
   "pygments_lexer": "ipython3",
   "version": "3.9.7"
  }
 },
 "nbformat": 4,
 "nbformat_minor": 5
}
